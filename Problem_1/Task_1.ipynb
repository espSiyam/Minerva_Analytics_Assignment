{
 "cells": [
  {
   "cell_type": "code",
   "execution_count": 1,
   "id": "7c94fb43-5529-4d37-9240-9bfb4e41c5af",
   "metadata": {},
   "outputs": [],
   "source": [
    "import os\n",
    "import json\n",
    "import pandas as pd\n",
    "from tqdm import tqdm\n",
    "from pathlib import Path\n",
    "from datetime import datetime\n",
    "\n",
    "# Opening first JSON file\n",
    "f = open('Copy of vehiclePosition01.json')\n",
    "data = json.load(f)"
   ]
  },
  {
   "cell_type": "code",
   "execution_count": 2,
   "id": "cbadfe35-c048-4cfe-97b3-d6089a4a6c65",
   "metadata": {},
   "outputs": [
    {
     "name": "stderr",
     "output_type": "stream",
     "text": [
      "100%|██████████████████████████████████████████████████████████████████████████████| 2661/2661 [00:39<00:00, 67.31it/s]\n"
     ]
    }
   ],
   "source": [
    "for i in tqdm(range(len(data['data']))): # Iterating through all the data of json file\n",
    "    time = int(data['data'][i]['time']) / 1000 # Converting miliseconds to seconds\n",
    "    date = datetime.utcfromtimestamp(time).strftime('%Y-%m-%d') # Converting date from seconds\n",
    "    \n",
    "    if not os.path.exists(date): # Make directory by the name of the date to export csv for each days\n",
    "        path = os.path.join(\"./\", date)\n",
    "        os.mkdir(path)\n",
    "        \n",
    "    for j in range(len(data['data'][i][\"Responses\"])): # Itererting to all responses (Ultimate goal is to find line_id)\n",
    "        \n",
    "        try: # There are few missing values. Ignoring them\n",
    "            for k in range(len(data['data'][i][\"Responses\"][j])):\n",
    "                lines = data['data'][i][\"Responses\"][j]['lines'][k]  # Iterating through all the lines\n",
    "                dataframe = pd.DataFrame(lines) # Convert line response dict to dataframe\n",
    "                csv_join = lines[\"lineId\"] + \".csv\" # # To save the csv file name by line_id\n",
    "                file_name = os.path.join(date, str(csv_join))\n",
    "                dataframe.to_csv(file_name, index=False) # Saving the dataframe\n",
    "                \n",
    "        except:\n",
    "            pass"
   ]
  },
  {
   "cell_type": "markdown",
   "id": "ebfdf4e4-b8e0-4958-b10d-6d88e2b9466a",
   "metadata": {},
   "source": [
    "## Segregating Second json file"
   ]
  },
  {
   "cell_type": "code",
   "execution_count": 3,
   "id": "0fdcb590-ae0b-4e79-ad51-af6647c82ee4",
   "metadata": {},
   "outputs": [],
   "source": [
    "# Opening Second JSON file\n",
    "f = open('Copy of vehiclePosition02.json')\n",
    "data = json.load(f)"
   ]
  },
  {
   "cell_type": "code",
   "execution_count": 6,
   "id": "461b55ab-1751-4b5f-8954-076281f270a6",
   "metadata": {},
   "outputs": [
    {
     "name": "stderr",
     "output_type": "stream",
     "text": [
      "100%|██████████████████████████████████████████████████████████████████████████████| 5353/5353 [01:21<00:00, 65.94it/s]\n"
     ]
    }
   ],
   "source": [
    "for i in tqdm(range(len(data['data']))):\n",
    "    time = int(data['data'][i]['time']) / 1000\n",
    "    date = datetime.utcfromtimestamp(time).strftime('%Y-%m-%d')\n",
    "    if not os.path.exists(date):\n",
    "        path = os.path.join(\"./\", date)\n",
    "        os.mkdir(path)\n",
    "    for j in range(len(data['data'][i][\"Responses\"])):\n",
    "        try:\n",
    "            for k in range(len(data['data'][i][\"Responses\"][j])):\n",
    "                lines = data['data'][i][\"Responses\"][j]['lines'][k]\n",
    "                dataframe = pd.DataFrame(lines)\n",
    "                line_id = lines[\"lineId\"]\n",
    "                csv_join = line_id + \".csv\"\n",
    "                file_name = os.path.join(date, str(csv_join))\n",
    "                dataframe.to_csv(file_name, index=False)\n",
    "        except:\n",
    "            pass"
   ]
  }
 ],
 "metadata": {
  "kernelspec": {
   "display_name": "Python 3",
   "language": "python",
   "name": "python3"
  },
  "language_info": {
   "codemirror_mode": {
    "name": "ipython",
    "version": 3
   },
   "file_extension": ".py",
   "mimetype": "text/x-python",
   "name": "python",
   "nbconvert_exporter": "python",
   "pygments_lexer": "ipython3",
   "version": "3.6.3"
  }
 },
 "nbformat": 4,
 "nbformat_minor": 5
}
