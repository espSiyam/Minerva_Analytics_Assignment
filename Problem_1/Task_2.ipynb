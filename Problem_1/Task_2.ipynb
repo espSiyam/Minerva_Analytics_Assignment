{
 "cells": [
  {
   "cell_type": "code",
   "execution_count": 1,
   "id": "cb179f90-0ff0-451e-bf64-3acba9dfdeea",
   "metadata": {},
   "outputs": [],
   "source": [
    "import json\n",
    "from tqdm import tqdm\n",
    "\n",
    "# Opening first JSON file\n",
    "f = open('Copy of vehiclePosition01.json')\n",
    "data = json.load(f)"
   ]
  },
  {
   "cell_type": "code",
   "execution_count": 2,
   "id": "6c8690da-e399-49b2-b970-aed98ceed41b",
   "metadata": {},
   "outputs": [],
   "source": [
    "pointIds = [] # Where we store all the point_id found in two json files\n",
    "\n",
    "try:\n",
    "    for i in range(len(data['data'])):\n",
    "        for j in range(len(data['data'][i]['Responses'])):\n",
    "            for k in range(len(data['data'][i]['Responses'][j]['lines'])):\n",
    "                for l in range(len(data['data'][i]['Responses'][j]['lines'][k][\"vehiclePositions\"])):\n",
    "                    pointId = data['data'][i]['Responses'][j]['lines'][k][\"vehiclePositions\"][l][\"pointId\"]\n",
    "                    pointIds.append(pointId) # Appending the point id to check with stop_id in stop_time.txt\n",
    "except:\n",
    "    pass"
   ]
  },
  {
   "cell_type": "code",
   "execution_count": 3,
   "id": "fffdfc9a-f987-4abb-84d1-aa285f593072",
   "metadata": {},
   "outputs": [],
   "source": [
    "# Opening second JSON file\n",
    "f = open('Copy of vehiclePosition02.json')\n",
    "data = json.load(f)"
   ]
  },
  {
   "cell_type": "code",
   "execution_count": 4,
   "id": "728b73a7-6273-4d1c-b867-453ac3b47148",
   "metadata": {},
   "outputs": [],
   "source": [
    "try:\n",
    "    for i in range(len(data['data'])):\n",
    "        for j in range(len(data['data'][i]['Responses'])):\n",
    "            for k in range(len(data['data'][i]['Responses'][j]['lines'])):\n",
    "                for l in range(len(data['data'][i]['Responses'][j]['lines'][k][\"vehiclePositions\"])):\n",
    "                    pointId = data['data'][i]['Responses'][j]['lines'][k][\"vehiclePositions\"][l][\"pointId\"]\n",
    "                    pointIds.append(pointId) # Appending from second JSON too\n",
    "except:\n",
    "    pass"
   ]
  },
  {
   "cell_type": "code",
   "execution_count": 15,
   "id": "9a03f9c5-1d5a-4e9c-bd29-78b2b7fb57cc",
   "metadata": {},
   "outputs": [],
   "source": [
    "# Loading the stop_times.txt as csv\n",
    "import pandas as pd\n",
    "dataframe = pd.read_csv(\"stop_times.txt\")"
   ]
  },
  {
   "cell_type": "code",
   "execution_count": 21,
   "id": "9104f711-43f1-4757-981c-55a68f1cf04a",
   "metadata": {},
   "outputs": [
    {
     "name": "stderr",
     "output_type": "stream",
     "text": [
      "100%|█████████████████████████████████████████████████████████████████████| 2818965/2818965 [4:08:56<00:00, 188.73it/s]\n"
     ]
    }
   ],
   "source": [
    "not_found = [] # List of items which vehicles id is not found\n",
    "\n",
    "for i in tqdm(range(len(dataframe))):\n",
    "    if dataframe['stop_id'].iloc[i] not in pointIds: # if doens't exist in pointIds, then missing in json files\n",
    "        not_found.append(dataframe['stop_id'].iloc[i])"
   ]
  },
  {
   "cell_type": "markdown",
   "id": "4bed1ba6-a153-4fab-be04-b923e7fe79e1",
   "metadata": {},
   "source": [
    "First 1o not found vehicle_id"
   ]
  },
  {
   "cell_type": "code",
   "execution_count": 23,
   "id": "d1e78d60-9dda-421d-9541-c9559adb8267",
   "metadata": {},
   "outputs": [
    {
     "data": {
      "text/plain": [
       "['4661B',\n",
       " '4004',\n",
       " '4002B',\n",
       " '4004',\n",
       " '4002B',\n",
       " '4004',\n",
       " '4002B',\n",
       " '4004',\n",
       " '4004',\n",
       " '4002B']"
      ]
     },
     "execution_count": 23,
     "metadata": {},
     "output_type": "execute_result"
    }
   ],
   "source": [
    "not_found[:10]"
   ]
  },
  {
   "cell_type": "code",
   "execution_count": null,
   "id": "91a8eff5-1a38-4736-9948-f5b518232a22",
   "metadata": {},
   "outputs": [],
   "source": []
  }
 ],
 "metadata": {
  "kernelspec": {
   "display_name": "Python 3",
   "language": "python",
   "name": "python3"
  },
  "language_info": {
   "codemirror_mode": {
    "name": "ipython",
    "version": 3
   },
   "file_extension": ".py",
   "mimetype": "text/x-python",
   "name": "python",
   "nbconvert_exporter": "python",
   "pygments_lexer": "ipython3",
   "version": "3.6.3"
  }
 },
 "nbformat": 4,
 "nbformat_minor": 5
}
